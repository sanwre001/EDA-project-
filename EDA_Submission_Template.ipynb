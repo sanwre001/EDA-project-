{
  "nbformat": 4,
  "nbformat_minor": 0,
  "metadata": {
    "colab": {
      "private_outputs": true,
      "provenance": [],
      "include_colab_link": true
    },
    "kernelspec": {
      "name": "python3",
      "display_name": "Python 3"
    },
    "language_info": {
      "name": "python"
    }
  },
  "cells": [
    {
      "cell_type": "markdown",
      "metadata": {
        "id": "view-in-github",
        "colab_type": "text"
      },
      "source": [
        "<a href=\"https://colab.research.google.com/github/sanwre001/EDA-project-/blob/main/EDA_Submission_Template.ipynb\" target=\"_parent\"><img src=\"https://colab.research.google.com/assets/colab-badge.svg\" alt=\"Open In Colab\"/></a>"
      ]
    },
    {
      "cell_type": "markdown",
      "source": [
        "# **Project Name**    - Hotel booking analysis \n",
        "\n"
      ],
      "metadata": {
        "id": "vncDsAP0Gaoa"
      }
    },
    {
      "cell_type": "markdown",
      "source": [
        "##### **Project Type**    - EDA/Regression/Classification/Unsupervised\n",
        "##### **Contribution**    - Individual\n",
        "##### **Team Member 1 -** Avinash Jat\n",
        "##### **Team Member 2 -**\n",
        "##### **Team Member 3 -**\n",
        "##### **Team Member 4 -**"
      ],
      "metadata": {
        "id": "beRrZCGUAJYm"
      }
    },
    {
      "cell_type": "markdown",
      "source": [
        "# **Project Summary -**"
      ],
      "metadata": {
        "id": "FJNUwmbgGyua"
      }
    },
    {
      "cell_type": "markdown",
      "source": [
        "The study of hotel booking data is important for any hospitality business because it provides insights into customer booking behavior and the channels through which bookings are made. This project involves analyzing a dataset of hotel bookings for city and resort hotels. The project activities are categorized as follows:\n",
        "\n",
        "\n",
        "\n",
        "1.   Defining the problem statement: The objective of the study is determined.\n",
        "2.   Collecting and preparing data: The data is cleaned, outliers are treated,And any necessary data preparation is performed.\n",
        "3.   Performing exploratory data analysis: A deep study of the relationship between different features is conducted, and new variables are generated as needed to align with the related business objectives. The data is presented in an easily understandable form.\n",
        "4.   Providing observations and recommendations: Based on the EDA, observations are made and recommendations are given to the business.\n",
        "\n",
        "Overall, the project aims to provide valuable insights into hotel booking behavior that can be used to improve the hospitality business's operations and increase revenue.\n",
        "\n",
        "\n",
        "\n",
        "\n"
      ],
      "metadata": {
        "id": "F6v_1wHtG2nS"
      }
    },
    {
      "cell_type": "markdown",
      "source": [
        "# **GitHub Link -**"
      ],
      "metadata": {
        "id": "w6K7xa23Elo4"
      }
    },
    {
      "cell_type": "markdown",
      "source": [
        "https://github.com/sanwre001/EDA-project-"
      ],
      "metadata": {
        "id": "h1o69JH3Eqqn"
      }
    },
    {
      "cell_type": "markdown",
      "source": [
        "# **Problem Statement**\n"
      ],
      "metadata": {
        "id": "yQaldy8SH6Dl"
      }
    },
    {
      "cell_type": "markdown",
      "source": [
        "This project aims to study different aspects of hotel booking behavior to help solve various business challenges faced by the hotel. The study includes: \n",
        "1. Understanding where guests come from to increase footfall from those countries and retain them through personalized contact even after they leave.\n",
        "2. Analyzing monthly booking patterns to identify the busiest quarter/trimester of the year and adjust manpower, promotions, and prices to maximize occupancy during lean periods. \n",
        "3. Studying the duration of guests' stays to provide a smart pricing structure that encourages longer stays. \n",
        "4. Analyzing meal patterns to optimize kitchen inventory and cafeteria staffing. \n",
        "5. Examining booking patterns by market segment to reward customers who provide more business. \n",
        "6. Analyzing the average daily rate's dependence on the season, room type, and allotment of demanded room types to optimize pricing for higher occupancy. \n",
        "7. Studying booking cancellation patterns based on various parameters like hotel type, lead time, season, deposit, etc., to plan for overbooking and devise penalty amounts. \n",
        "8. Analyzing customer retention patterns based on hotel type to improve the experience and retain customers. \n",
        "\n",
        "Overall, this analysis aims to help the hotel improve operations, increase revenue, and provide better customer experiences."
      ],
      "metadata": {
        "id": "DpeJGUA3kjGy"
      }
    },
    {
      "cell_type": "markdown",
      "source": [
        "#### **Define Your Business Objective?**"
      ],
      "metadata": {
        "id": "PH-0ReGfmX4f"
      }
    },
    {
      "cell_type": "markdown",
      "source": [
        "Maximise Bookings, Minimise Cancellations , Maximise Customer retention as well as stay longevity."
      ],
      "metadata": {
        "id": "PhDvGCAqmjP1"
      }
    },
    {
      "cell_type": "markdown",
      "source": [
        "# **General Guidelines** : -  "
      ],
      "metadata": {
        "id": "mDgbUHAGgjLW"
      }
    },
    {
      "cell_type": "markdown",
      "source": [
        "1.   Well-structured, formatted, and commented code is required. \n",
        "2.   Exception Handling, Production Grade Code & Deployment Ready Code will be a plus. Those students will be awarded some additional credits. \n",
        "     \n",
        "     The additional credits will have advantages over other students during Star Student selection.\n",
        "       \n",
        "             [ Note: - Deployment Ready Code is defined as, the whole .ipynb notebook should be executable in one go\n",
        "                       without a single error logged. ]\n",
        "\n",
        "3.   Each and every logic should have proper comments.\n",
        "4. You may add as many number of charts you want. Make Sure for each and every chart the following format should be answered.\n",
        "        \n",
        "\n",
        "```\n",
        "# Chart visualization code\n",
        "```\n",
        "            \n",
        "\n",
        "*   Why did you pick the specific chart?\n",
        "*   What is/are the insight(s) found from the chart?\n",
        "* Will the gained insights help creating a positive business impact? \n",
        "Are there any insights that lead to negative growth? Justify with specific reason.\n",
        "\n",
        "5. You have to create at least 20 logical & meaningful charts having important insights.\n",
        "\n",
        "\n",
        "[ Hints : - Do the Vizualization in  a structured way while following \"UBM\" Rule. \n",
        "\n",
        "U - Univariate Analysis,\n",
        "\n",
        "B - Bivariate Analysis (Numerical - Categorical, Numerical - Numerical, Categorical - Categorical)\n",
        "\n",
        "M - Multivariate Analysis\n",
        " ]\n",
        "\n",
        "\n",
        "\n"
      ],
      "metadata": {
        "id": "ZrxVaUj-hHfC"
      }
    },
    {
      "cell_type": "markdown",
      "source": [
        "# ***Let's Begin !***"
      ],
      "metadata": {
        "id": "O_i_v8NEhb9l"
      }
    },
    {
      "cell_type": "markdown",
      "source": [
        "## ***1. Know Your Data***"
      ],
      "metadata": {
        "id": "HhfV-JJviCcP"
      }
    },
    {
      "cell_type": "markdown",
      "source": [
        "### Import Libraries"
      ],
      "metadata": {
        "id": "Y3lxredqlCYt"
      }
    },
    {
      "cell_type": "code",
      "source": [
        "# Import Libraries\n",
        "import numpy as np\n",
        "import pandas as pd\n",
        "\n",
        "# Importing visualization libraries\n",
        "import matplotlib.pyplot as plt\n",
        "%matplotlib inline\n",
        "import seaborn as sns\n",
        "import plotly.express as px\n",
        "import folium\n",
        "\n",
        "import warnings\n",
        "warnings.filterwarnings('ignore')"
      ],
      "metadata": {
        "id": "M8Vqi-pPk-HR"
      },
      "execution_count": null,
      "outputs": []
    },
    {
      "cell_type": "markdown",
      "source": [
        "### Dataset Loading"
      ],
      "metadata": {
        "id": "3RnN4peoiCZX"
      }
    },
    {
      "cell_type": "code",
      "source": [
        "# Load Dataset\n",
        "from google.colab import drive\n",
        "drive.mount('/content/drive')\n",
        "\n",
        "df = pd.read_csv('/content/drive/MyDrive/Hotel Bookings.csv')"
      ],
      "metadata": {
        "id": "4CkvbW_SlZ_R"
      },
      "execution_count": null,
      "outputs": []
    },
    {
      "cell_type": "markdown",
      "source": [
        "### Dataset First View"
      ],
      "metadata": {
        "id": "x71ZqKXriCWQ"
      }
    },
    {
      "cell_type": "code",
      "source": [
        "# Dataset First Look\n",
        "df.head()"
      ],
      "metadata": {
        "id": "LWNFOSvLl09H"
      },
      "execution_count": null,
      "outputs": []
    },
    {
      "cell_type": "markdown",
      "source": [
        "### Dataset Rows & Columns count"
      ],
      "metadata": {
        "id": "7hBIi_osiCS2"
      }
    },
    {
      "cell_type": "code",
      "source": [
        "# Dataset Rows & Columns count\n",
        "df.shape[0] , df.shape[1]"
      ],
      "metadata": {
        "id": "Kllu7SJgmLij"
      },
      "execution_count": null,
      "outputs": []
    },
    {
      "cell_type": "markdown",
      "source": [
        "### Dataset Information"
      ],
      "metadata": {
        "id": "JlHwYmJAmNHm"
      }
    },
    {
      "cell_type": "code",
      "source": [
        "# Dataset Info\n",
        "df.info()"
      ],
      "metadata": {
        "id": "e9hRXRi6meOf"
      },
      "execution_count": null,
      "outputs": []
    },
    {
      "cell_type": "markdown",
      "source": [
        "#### Duplicate Values"
      ],
      "metadata": {
        "id": "35m5QtbWiB9F"
      }
    },
    {
      "cell_type": "code",
      "source": [
        "# Dataset Duplicate Value Count\n",
        "len(df[df.duplicated()])"
      ],
      "metadata": {
        "id": "1sLdpKYkmox0"
      },
      "execution_count": null,
      "outputs": []
    },
    {
      "cell_type": "markdown",
      "source": [
        "#### Missing Values/Null Values"
      ],
      "metadata": {
        "id": "PoPl-ycgm1ru"
      }
    },
    {
      "cell_type": "code",
      "source": [
        "# Missing Values/Null Values Count\n",
        "temp_df=df.isnull().sum().reset_index().rename(columns={'index':'Columns',0:'Null Values'})\n",
        "# Checking Null Value by plotting Bar Graph\n",
        "px.bar(temp_df,x='Columns',y='Null Values',width= 1000, height= 500,text_auto=True)"
      ],
      "metadata": {
        "id": "GgHWkxvamxVg"
      },
      "execution_count": null,
      "outputs": []
    },
    {
      "cell_type": "markdown",
      "source": [
        "### What did you know about your dataset?"
      ],
      "metadata": {
        "id": "H0kj-8xxnORC"
      }
    },
    {
      "cell_type": "markdown",
      "source": [
        "The given dataset is from the hotel industry, and our objective is to explore and analyze the data to discover important factors that influence bookings. The dataset has 119,390 rows and 32 columns. All columns except for four (children, country, agent, and company) have no null values. However, the dataset has 31,994 duplicate values. Our goal is to analyze the dataset by exploring the data provided under various column headings to gain insights that can help improve the hotel's operations and increase revenue."
      ],
      "metadata": {
        "id": "gfoNAAC-nUe_"
      }
    },
    {
      "cell_type": "markdown",
      "source": [
        "## ***2. Understanding Your Variables***"
      ],
      "metadata": {
        "id": "nA9Y7ga8ng1Z"
      }
    },
    {
      "cell_type": "code",
      "source": [
        "# Dataset Columns\n",
        "df.columns"
      ],
      "metadata": {
        "id": "j7xfkqrt5Ag5"
      },
      "execution_count": null,
      "outputs": []
    },
    {
      "cell_type": "code",
      "source": [
        "# Dataset Describe\n",
        "df.describe(include='all')"
      ],
      "metadata": {
        "id": "DnOaZdaE5Q5t"
      },
      "execution_count": null,
      "outputs": []
    },
    {
      "cell_type": "markdown",
      "source": [
        "### Variables Description "
      ],
      "metadata": {
        "id": "PBTbrJXOngz2"
      }
    },
    {
      "cell_type": "markdown",
      "source": [
        "* **Hotel:**  H1= Resort Hotel, H2= City Hotel\n",
        "* **is_canceled** : If the booking was canceled(1) or not(0)\n",
        "* **lead_time** : Number of days that elapsed between the entering date of the  booking into the PMS(Property Management System) and the arrival date\n",
        "* **arrival_date_year** : Year of arrival date.\n",
        "* **arrival_date_month** : Month of arrival date.\n",
        "* **arrival_date_week_number** : Week number for arrival date.\n",
        "* **arrival_date_day_of_month**: Which day of the months guest is arriving.\n",
        "* **stays_in_weekend_nights**: Number of weekend nights (Saturday or Sunday) the guest stayed or booked to stay at the hotel.\n",
        "* **stays_in_week_nights**: Number of week nights (Monday to Friday) the guest stayed or booked to stay at the hotel.\n",
        "* **adults** : Number of adults.\n",
        "* **children** : Number of children.\n",
        "* **babies** : Number of babies.\n",
        "* **meal**: kind of meal opted for.\n",
        "* **country** : Country code.\n",
        "* **market_segment**: Through which channel hotels were booked.\n",
        "* **distribution_channel** : How the customer accessed the stay- Corporate Booking/Direct/TA.TO\n",
        "* **is_repeated_guest** : The values indicating if the booking name was from a repeated guest (1) or not (0).\n",
        "* **previous_cancellations** : Was there a cancellation before.\n",
        "* **previous_bookings_not_canceled** : Count of previous bookings not cancelled.\n",
        "* **reserved_room_type** : Code of room type reserved.\n",
        "* **assigned_room_type** : Code for the type of room assigned to the booking.\n",
        "* **booking_changes** : Count of changes made to booking.\n",
        "* **deposit_type** : Deposit type.\n",
        "* **agent** : If the booking happens through agents or not.\n",
        "* **company** : If the booking happens through companies, the company ID that made the booking or responsible for paying the booking.\n",
        "* **days_in_waiting_list** : Number of days the booking was on the waiting list before the confirmation to the customer.\n",
        "* **customer_type** : Booking type like Transient – Transient-Party – Contract – Group.\n",
        "* **adr** : Average Daily Rates that described via way of means of dividing the sum of all accommodations transactions using entire numbers of staying nights.\n",
        "* **required_car_parking_spaces** : How many parking areas are necessary for the customers.\n",
        "* **total_of_special_requests** : Total unique requests from consumers.\n",
        "* **reservation_status**: The last status of reservation, assuming one of three categories: Canceled – booking was cancelled by the customer; Check-Out;No-Show.\n",
        "* **reservation_status_date**: The last status date."
      ],
      "metadata": {
        "id": "aJV4KIxSnxay"
      }
    },
    {
      "cell_type": "markdown",
      "source": [
        "### Check Unique Values for each variable."
      ],
      "metadata": {
        "id": "u3PMJOP6ngxN"
      }
    },
    {
      "cell_type": "code",
      "source": [
        "# Check Unique Values for each variable.\n",
        "for item in list(df.columns):\n",
        "  print(f\"Column name: {item} - No. of unique values: {df[item].nunique()}\")"
      ],
      "metadata": {
        "id": "zms12Yq5n-jE"
      },
      "execution_count": null,
      "outputs": []
    },
    {
      "cell_type": "markdown",
      "source": [
        "## 3. ***Data Wrangling***"
      ],
      "metadata": {
        "id": "dauF4eBmngu3"
      }
    },
    {
      "cell_type": "markdown",
      "source": [
        "### Data Wrangling Code"
      ],
      "metadata": {
        "id": "bKJF3rekwFvQ"
      }
    },
    {
      "cell_type": "code",
      "source": [
        "# Firstly lets make a copy of our df to work on\n",
        "copy_df=df.copy()"
      ],
      "metadata": {
        "id": "wk-9a2fpoLcV"
      },
      "execution_count": null,
      "outputs": []
    },
    {
      "cell_type": "code",
      "source": [
        "# Dataset First Look\n",
        "copy_df.head()"
      ],
      "metadata": {
        "id": "f69aL3giCn3h"
      },
      "execution_count": null,
      "outputs": []
    },
    {
      "cell_type": "code",
      "source": [
        "# The first thing we need to do to make our data clean is delete duplicate values from the dataset\n",
        "copy_df.drop_duplicates(inplace=True)\n",
        "copy_df.shape"
      ],
      "metadata": {
        "id": "2gPoCSeTC1dk"
      },
      "execution_count": null,
      "outputs": []
    },
    {
      "cell_type": "code",
      "source": [
        "# Now checking percenatge of null values for each column\n",
        "100*(copy_df.isna().sum()/copy_df.shape[0]).sort_values(ascending=False)"
      ],
      "metadata": {
        "id": "LSzEOrpYC7_2"
      },
      "execution_count": null,
      "outputs": []
    },
    {
      "cell_type": "code",
      "source": [
        "# Here we can see that the company column has approx 94% missing data, which is very high so we should drop that column\n",
        "copy_df.drop(columns=['company'],inplace=True)"
      ],
      "metadata": {
        "id": "zyaAZQ5bC9xW"
      },
      "execution_count": null,
      "outputs": []
    },
    {
      "cell_type": "code",
      "source": [
        "# Now for other columns they have less % of null values, so we can just replace them.\n",
        "copy_df.agent.fillna(0,inplace=True)\n",
        "copy_df.country.fillna('Others',inplace=True)\n",
        "copy_df.children.fillna(0,inplace=True)"
      ],
      "metadata": {
        "id": "0LUXa82EC_kP"
      },
      "execution_count": null,
      "outputs": []
    },
    {
      "cell_type": "code",
      "source": [
        "# Now again checking for Missing Values/Null Values Count\n",
        "temp_df=copy_df.isnull().sum().reset_index().rename(columns={'index':'Columns',0:'Null Values'})\n",
        "px.bar(temp_df,x='Columns',y='Null Values',width= 1000, height= 500,text_auto=True)"
      ],
      "metadata": {
        "id": "j129Lr9BDBgp"
      },
      "execution_count": null,
      "outputs": []
    },
    {
      "cell_type": "code",
      "source": [
        "#data set info \n",
        "copy_df.info()"
      ],
      "metadata": {
        "id": "HTavPMiaDGbY"
      },
      "execution_count": null,
      "outputs": []
    },
    {
      "cell_type": "code",
      "source": [
        "# In the above info we can see the datatypes of all columns are correct except for children and agent.\n",
        "# So to make further operations easy we should change their datatypes to suitable types.\n",
        "copy_df['children']=copy_df['children'].astype(int)\n",
        "copy_df['agent']=copy_df['agent'].astype(int) "
      ],
      "metadata": {
        "id": "SSGfvMnMDUKu"
      },
      "execution_count": null,
      "outputs": []
    },
    {
      "cell_type": "code",
      "source": [
        "copy_df[['children','agent']].info()"
      ],
      "metadata": {
        "id": "Xl6CHse6DWDS"
      },
      "execution_count": null,
      "outputs": []
    },
    {
      "cell_type": "code",
      "source": [
        "# Now babies, adults, and childrens can't be zero at the same time, so we can drop all the observations having zero at the same time.\n",
        "copy_df=copy_df[~((copy_df['adults']==0) & (copy_df['children']==0) & (copy_df['babies']==0))]"
      ],
      "metadata": {
        "id": "UlDviHJRDYMB"
      },
      "execution_count": null,
      "outputs": []
    },
    {
      "cell_type": "code",
      "source": [
        "copy_df.shape"
      ],
      "metadata": {
        "id": "pWA5v6vxDag9"
      },
      "execution_count": null,
      "outputs": []
    },
    {
      "cell_type": "code",
      "source": [
        "# Adding new columns for analysis\n",
        "copy_df['total_stay_nights']=copy_df['stays_in_week_nights']+copy_df['stays_in_weekend_nights']\n",
        "copy_df[['stays_in_week_nights','stays_in_weekend_nights','total_stay_nights']]"
      ],
      "metadata": {
        "id": "b66ciVbBDc62"
      },
      "execution_count": null,
      "outputs": []
    },
    {
      "cell_type": "code",
      "source": [
        "# Creating seperate datasets for resort and city hotel\n",
        "resort_df=copy_df[copy_df['hotel']=='Resort Hotel']\n",
        "city_df=copy_df[copy_df['hotel']=='City Hotel']"
      ],
      "metadata": {
        "id": "xSpjZ_czDkGv"
      },
      "execution_count": null,
      "outputs": []
    },
    {
      "cell_type": "markdown",
      "source": [
        "### What all manipulations have you done and insights you found?"
      ],
      "metadata": {
        "id": "MSa1f5Uengrz"
      }
    },
    {
      "cell_type": "markdown",
      "source": [
        "\n",
        "\n",
        "*   \tthe dataset was first copied to avoid making changes to the original data. \n",
        "*   The data cleaning process was then carried out, which involved removing all duplicated rows and handling missing values. \n",
        "\n",
        "\n",
        "*   The data types of columns were also changed to appropriate data types for easier analysis.\n",
        "*   Erroneous data was fixed, including spelling errors, outliers, and inconsistencies. \n",
        "*   New columns were added to the dataset for better analysis, and two separate data frames were created for each hotel type to facilitate comparison. \n",
        "*   These steps were taken to ensure that the dataset was ready for analysis and to gain insights that could help improve the hotel's operations and increase revenue.\n",
        "\n",
        "\n",
        "\n"
      ],
      "metadata": {
        "id": "LbyXE7I1olp8"
      }
    },
    {
      "cell_type": "markdown",
      "source": [
        "## ***4. Data Vizualization, Storytelling & Experimenting with charts : Understand the relationships between variables***"
      ],
      "metadata": {
        "id": "GF8Ens_Soomf"
      }
    },
    {
      "cell_type": "markdown",
      "source": [
        "#### Chart - 1"
      ],
      "metadata": {
        "id": "0wOQAZs5pc--"
      }
    },
    {
      "cell_type": "code",
      "source": [
        "# Checking most preffered hotel \n",
        "# Visualizsing the by pie chart.\n",
        "df['hotel'].value_counts().plot.pie(explode=[0.05, 0.05], autopct='%1.1f%%', shadow=True, figsize=(10,8),fontsize=20)   \n",
        "plt.title('Pie Chart for Most Preffered  Hotel')"
      ],
      "metadata": {
        "id": "6tCKk2nmD9xV"
      },
      "execution_count": null,
      "outputs": []
    },
    {
      "cell_type": "markdown",
      "source": [
        "##### 1. Why did you pick the specific chart?"
      ],
      "metadata": {
        "id": "K5QZ13OEpz2H"
      }
    },
    {
      "cell_type": "markdown",
      "source": [
        "I Picked pie chart because it is a good way to show the proportion of different categories in a dataset."
      ],
      "metadata": {
        "id": "XESiWehPqBRc"
      }
    },
    {
      "cell_type": "markdown",
      "source": [
        "##### 2. What is/are the insight(s) found from the chart?"
      ],
      "metadata": {
        "id": "lQ7QKXXCp7Bj"
      }
    },
    {
      "cell_type": "markdown",
      "source": [
        "The pie chart shows that City Hotel is more popular than Resort Hotel in the dataset. Specifically, City Hotel accounts for about 66.4% of the dataset, while Resort Hotel only accounts for about 33.6%."
      ],
      "metadata": {
        "id": "C_j1G7yiqdRP"
      }
    },
    {
      "cell_type": "markdown",
      "source": [
        "##### 3. Will the gained insights help creating a positive business impact? \n",
        "Are there any insights that lead to negative growth? Justify with specific reason."
      ],
      "metadata": {
        "id": "448CDAPjqfQr"
      }
    },
    {
      "cell_type": "markdown",
      "source": [
        "The insights gained from the pie chart showing the proportion of City Hotel and Resort Hotel can potentially help or harm a business depending on the context. If the business owns or manages City Hotel, the finding that City Hotel is more popular than Resort Hotel may suggest that the business should focus on promoting City Hotel more and improving its amenities and services to maintain its popularity. On the other hand, if the business owns or manages Resort Hotel, the finding may suggest that the business should investigate the reasons for Resort Hotel being less popular and consider ways to improve it, such as by offering more amenities, reducing prices, or enhancing the quality of service. In general, the insights gained from the pie chart can inform strategic decisions and actions that align with the business goals and values. However, it's important to be careful not to draw hasty conclusions from the data and to consider the limitations and biases of the dataset."
      ],
      "metadata": {
        "id": "3cspy4FjqxJW"
      }
    },
    {
      "cell_type": "markdown",
      "source": [
        "\n",
        "#### Chart - 2"
      ],
      "metadata": {
        "id": "KSlN3yHqYklG"
      }
    },
    {
      "cell_type": "code",
      "source": [
        "# Country wise guest count \n",
        "guest_country = copy_df[copy_df['is_canceled'] == 0]['country'].value_counts().reset_index()\n",
        "guest_country.columns = ['Country', 'No of guests']\n",
        "guest_country"
      ],
      "metadata": {
        "id": "0TZUoI5bFFpo"
      },
      "execution_count": null,
      "outputs": []
    },
    {
      "cell_type": "code",
      "source": [
        "basemap = folium.Map()\n",
        "ax = px.choropleth(guest_country, locations = guest_country['Country'],\n",
        "                           color = guest_country['No of guests'], hover_name = guest_country['Country'])\n",
        "ax.show()"
      ],
      "metadata": {
        "id": "t7w0mYVnFHTH"
      },
      "execution_count": null,
      "outputs": []
    },
    {
      "cell_type": "code",
      "source": [
        "#Top 10 Country wise Guests count\n",
        "x=copy_df.country.value_counts()\n",
        "z=sns.countplot(x=copy_df[copy_df['is_canceled'] == 0]['country'], data=copy_df,order=pd.value_counts(copy_df['country']).iloc[:10].index,palette= 'colorblind')\n",
        "plt.title('Top 10 Countries of Origin of the Guests', weight='bold')\n",
        "plt.xlabel('Country')\n",
        "plt.ylabel('Reservation Count')\n",
        "for p in z.patches:\n",
        "    z.annotate(str(p.get_height()), (p.get_x() * 1.005, p.get_height() * 1.005))"
      ],
      "metadata": {
        "id": "XucTUP4UFKUC"
      },
      "execution_count": null,
      "outputs": []
    },
    {
      "cell_type": "markdown",
      "source": [
        "##### 1. Why did you pick the specific chart?"
      ],
      "metadata": {
        "id": "t6dVpIINYklI"
      }
    },
    {
      "cell_type": "markdown",
      "source": [
        "I picked the This charts because it is a great way to visualize and compare the distribution of categorical data. In this case, we wanted to Check that Where do the guests come from? and From which country most guests come?"
      ],
      "metadata": {
        "id": "5aaW0BYyYklI"
      }
    },
    {
      "cell_type": "markdown",
      "source": [
        "##### 2. What is/are the insight(s) found from the chart?"
      ],
      "metadata": {
        "id": "ijmpgYnKYklI"
      }
    },
    {
      "cell_type": "markdown",
      "source": [
        "From the chart, we can see that in the Top 10 Countries of Origin of the Guests PRT is on top of the list"
      ],
      "metadata": {
        "id": "PSx9atu2YklI"
      }
    },
    {
      "cell_type": "markdown",
      "source": [
        "##### 3. Will the gained insights help creating a positive business impact? \n",
        "Are there any insights that lead to negative growth? Justify with specific reason."
      ],
      "metadata": {
        "id": "-JiQyfWJYklI"
      }
    },
    {
      "cell_type": "markdown",
      "source": [
        "Definatly it will help to creat a positve impact on there business now the hotel menager and oweners have more clear idea that what type of customers need to face every day so acordingley the can menage theare resorces like the waiter and other staff should know theare language.  what kind of food they like and etc."
      ],
      "metadata": {
        "id": "BcBbebzrYklV"
      }
    },
    {
      "cell_type": "markdown",
      "source": [
        "#### Chart - 3"
      ],
      "metadata": {
        "id": "EM7whBJCYoAo"
      }
    },
    {
      "cell_type": "code",
      "source": [
        "# Checking total bookings for each year\n",
        "copy_df['arrival_date_year'].value_counts().sort_index()"
      ],
      "metadata": {
        "id": "SCkrGuPJTOHS"
      },
      "execution_count": null,
      "outputs": []
    },
    {
      "cell_type": "code",
      "source": [
        "# Checking total bookings for each year for both hotel types\n",
        "copy_df[['arrival_date_year','hotel']].value_counts().unstack()"
      ],
      "metadata": {
        "id": "czuGhe2_UhGn"
      },
      "execution_count": null,
      "outputs": []
    },
    {
      "cell_type": "code",
      "source": [
        "# Function to show percentage in countplot\n",
        "def barPerc(copy_df,xVar,ax):\n",
        "\n",
        "    # 1. how many X categories\n",
        "    ##   check for NaN and remove\n",
        "    numX=len([x for x in df[xVar].unique() if x==x])\n",
        "\n",
        "    # 2. The bars are created in hue order, organize them\n",
        "    bars = ax.patches\n",
        "    ## 2a. For each X variable\n",
        "    for ind in range(numX):\n",
        "        ## 2b. Get every hue bar\n",
        "        ##     ex. 8 X categories, 4 hues =>\n",
        "        ##    [0, 8, 16, 24] are hue bars for 1st X category\n",
        "        hueBars=bars[ind:][::numX]\n",
        "        ## 2c. Get the total height (for percentages)\n",
        "        total = sum([x.get_height() for x in hueBars])\n",
        "\n",
        "        # 3. Print the percentage on the bars\n",
        "        for bar in hueBars:\n",
        "            ax.text(bar.get_x() + bar.get_width()/2.,\n",
        "                    bar.get_height(),\n",
        "                    f'{bar.get_height()/total:.0%}',\n",
        "                    ha=\"center\",va=\"bottom\")"
      ],
      "metadata": {
        "id": "Tfh-OOU3TYDR"
      },
      "execution_count": null,
      "outputs": []
    },
    {
      "cell_type": "code",
      "source": [
        "# Plotting count plot to show distribution of booking among Resort Hotels and City Hotels for all three years\n",
        "plt.figure(figsize=(10,5))\n",
        "ax=sns.countplot (x= 'arrival_date_year', data= copy_df, hue= 'hotel')\n",
        "plt.xticks(size=15)\n",
        "plt.xlabel('Year Of Booking',size=15)\n",
        "plt.yticks(size=15)\n",
        "plt.ylabel('count',size=15)\n",
        "plt.title(\"Hotel Booking Distribution\")\n",
        "barPerc(copy_df,\"arrival_date_year\",ax)"
      ],
      "metadata": {
        "id": "5dgWfGTmUn0v"
      },
      "execution_count": null,
      "outputs": []
    },
    {
      "cell_type": "markdown",
      "source": [
        "##### 1. Why did you pick the specific chart?"
      ],
      "metadata": {
        "id": "fge-S5ZAYoAp"
      }
    },
    {
      "cell_type": "markdown",
      "source": [
        "this is a countplot form seaborn library which is a type of histogram used to visualize the counts of observations in each categorical bin using bars.Using count plot we can easily visualize and compare distribution of bookings."
      ],
      "metadata": {
        "id": "5dBItgRVYoAp"
      }
    },
    {
      "cell_type": "markdown",
      "source": [
        "##### 2. What is/are the insight(s) found from the chart?"
      ],
      "metadata": {
        "id": "85gYPyotYoAp"
      }
    },
    {
      "cell_type": "markdown",
      "source": [
        "From the graph we can conclude that in 2016 and 2017 city hotels received about 1.5 times more bookings than resort hotels while in 2015 bookings were quite low compared to 2016 and 2017 and also both city and resort hotels received equal no of bookings."
      ],
      "metadata": {
        "id": "4jstXR6OYoAp"
      }
    },
    {
      "cell_type": "markdown",
      "source": [
        "##### 3. Will the gained insights help creating a positive business impact? \n",
        "Are there any insights that lead to negative growth? Justify with specific reason."
      ],
      "metadata": {
        "id": "RoGjAbkUYoAp"
      }
    },
    {
      "cell_type": "markdown",
      "source": [
        "Yes, it will make a positive business impect through this they can analyse that witch year they make more profit and then the can look for the reasons why the make more profit that year. "
      ],
      "metadata": {
        "id": "zfJ8IqMcYoAp"
      }
    },
    {
      "cell_type": "markdown",
      "source": [
        "#### Chart - 4"
      ],
      "metadata": {
        "id": "4Of9eVA-YrdM"
      }
    },
    {
      "cell_type": "code",
      "source": [
        "# Monthly arrival pattern of Guests\n",
        "activities = ['August','July','May','October','April','June','September','March','February',\"November\",'December','January']\n",
        "plt.figure(figsize=(14,7))\n",
        "plt.pie(copy_df.arrival_date_month.value_counts(),\n",
        "labels =activities,\n",
        "startangle = 90,\n",
        "shadow = True,\n",
        "explode =(0.1,0.1,0.1,0,0,0,0,0,0,0,0,0),\n",
        "autopct ='%1.1f%%')\n",
        "plt.title('Monthly Guest arrival pattern')\n",
        "\n",
        "# Print the chart\n",
        "plt.show()"
      ],
      "metadata": {
        "id": "irlUoxc8YrdO"
      },
      "execution_count": null,
      "outputs": []
    },
    {
      "cell_type": "code",
      "source": [
        "# Bar plot\n",
        "sns.countplot(x='arrival_date_month', hue='hotel', data=copy_df);\n",
        "plt.title('Monthly Guest arrival pattern');"
      ],
      "metadata": {
        "id": "4FVkxM-rWL8R"
      },
      "execution_count": null,
      "outputs": []
    },
    {
      "cell_type": "markdown",
      "source": [
        "##### 1. Why did you pick the specific chart?"
      ],
      "metadata": {
        "id": "iky9q4vBYrdO"
      }
    },
    {
      "cell_type": "markdown",
      "source": [
        "Here in First graph i draw the Pie chart and in second chart the Count plot is drawn to show the explicit view of Monthly guest arrival."
      ],
      "metadata": {
        "id": "aJRCwT6DYrdO"
      }
    },
    {
      "cell_type": "markdown",
      "source": [
        "##### 2. What is/are the insight(s) found from the chart?"
      ],
      "metadata": {
        "id": "F6T5p64dYrdO"
      }
    },
    {
      "cell_type": "markdown",
      "source": [
        "from pie and count plot chart i found that what is the count of gust arrive in month wise and hotel wise. "
      ],
      "metadata": {
        "id": "Xx8WAJvtYrdO"
      }
    },
    {
      "cell_type": "markdown",
      "source": [
        "##### 3. Will the gained insights help creating a positive business impact? \n",
        "Are there any insights that lead to negative growth? Justify with specific reason."
      ],
      "metadata": {
        "id": "y-Ehk30pYrdP"
      }
    },
    {
      "cell_type": "markdown",
      "source": [
        "As i mentioned there is two graph pie chart and count plot for monthly gust arrival wich show for which month most of the gust come and stay in witch tyoe of hotel City hotel or resort hotel. "
      ],
      "metadata": {
        "id": "jLNxxz7MYrdP"
      }
    },
    {
      "cell_type": "markdown",
      "source": [
        "#### Chart - 5"
      ],
      "metadata": {
        "id": "bamQiAODYuh1"
      }
    },
    {
      "cell_type": "code",
      "source": [
        "# Checking monthly customer bookings and cancelations\n",
        "copy_df[['arrival_date_month','is_canceled']].value_counts().unstack()"
      ],
      "metadata": {
        "id": "TIJwrbroYuh3"
      },
      "execution_count": null,
      "outputs": []
    },
    {
      "cell_type": "code",
      "source": [
        "# Visualizing how many bookings got canceled for each month\n",
        "plt.figure(figsize=(20,5))\n",
        "ax=sns.countplot (x= 'arrival_date_month', data= copy_df, hue= 'is_canceled')\n",
        "plt.xticks(size=15)\n",
        "plt.xlabel('Month Of Booking',size=15)\n",
        "plt.yticks(size=15)\n",
        "plt.ylabel('count',size=15)\n",
        "plt.title(\"Monthly Booking cancelations\")\n",
        "barPerc(copy_df,'arrival_date_month',ax)"
      ],
      "metadata": {
        "id": "k42grs3xYGkg"
      },
      "execution_count": null,
      "outputs": []
    },
    {
      "cell_type": "code",
      "source": [
        "# Visualizing monthly bookings that were not canceled\n",
        "plt.figure(figsize=(12,5))\n",
        "sort_order=['January','February','March','April','May','June','July','August','September','October','November','December']\n",
        "ax=copy_df[copy_df['is_canceled']==0]['arrival_date_month'].value_counts().reindex(sort_order)\n",
        "plt.plot(ax,'bo',linestyle='dashed')\n",
        "for x,y in zip(ax.index,ax.values):\n",
        "\n",
        "    label = \"{:.2f}\".format(y)\n",
        "\n",
        "    plt.annotate(label, # this is the text\n",
        "                 (x,y), # these are the coordinates to position the label\n",
        "                 textcoords=\"offset points\", # how to position the text\n",
        "                 xytext=(0,10), # distance from text to points (x,y)\n",
        "                 ha='center') # horizontal alignment can be left, right or center\n",
        "\n",
        "plt.show()"
      ],
      "metadata": {
        "id": "TdPNeigTYa8v"
      },
      "execution_count": null,
      "outputs": []
    },
    {
      "cell_type": "markdown",
      "source": [
        "##### 1. Why did you pick the specific chart?"
      ],
      "metadata": {
        "id": "QHF8YVU7Yuh3"
      }
    },
    {
      "cell_type": "markdown",
      "source": [
        "for Checking the monthly customer bookings and cancelations i use countplot and second one is line chart"
      ],
      "metadata": {
        "id": "dcxuIMRPYuh3"
      }
    },
    {
      "cell_type": "markdown",
      "source": [
        "##### 2. What is/are the insight(s) found from the chart?"
      ],
      "metadata": {
        "id": "GwzvFGzlYuh3"
      }
    },
    {
      "cell_type": "markdown",
      "source": [
        "From these charts we can conclude that the months of July and August receive the most no. of bookings almost double as compared to January and December. And in other months the bookings remain constant around 5000.\n"
      ],
      "metadata": {
        "id": "uyqkiB8YYuh3"
      }
    },
    {
      "cell_type": "markdown",
      "source": [
        "##### 3. Will the gained insights help creating a positive business impact? \n",
        "Are there any insights that lead to negative growth? Justify with specific reason."
      ],
      "metadata": {
        "id": "qYpmQ266Yuh3"
      }
    },
    {
      "cell_type": "markdown",
      "source": [
        "it wil definatly create a positive busniness impact through this we can check that which time most of the gust caome this location so we can plan the further this acordingly and also chek what is the reason why gust is canciling the bookings. "
      ],
      "metadata": {
        "id": "_WtzZ_hCYuh4"
      }
    },
    {
      "cell_type": "markdown",
      "source": [
        "#### Chart - 6"
      ],
      "metadata": {
        "id": "OH-pJp9IphqM"
      }
    },
    {
      "cell_type": "code",
      "source": [
        "# Checking for how long people stay in Resort hotels\n",
        "resort_df['total_stay_nights'].value_counts()"
      ],
      "metadata": {
        "id": "kuRf4wtuphqN"
      },
      "execution_count": null,
      "outputs": []
    },
    {
      "cell_type": "code",
      "source": [
        "# Plotting graph to visualize and also show percentage distribution \n",
        "plt.figure(figsize=(24,5))\n",
        "total = float(len(resort_df))\n",
        "ax = sns.countplot(x='total_stay_nights', data=resort_df)\n",
        "plt.title('Distribution Of Stay Duration For Resort Hotels', fontsize=20)\n",
        "for p in ax.patches:\n",
        "    percentage = '{:.1f}%'.format(100 * p.get_height()/total)\n",
        "    x = p.get_x() + p.get_width()\n",
        "    y = p.get_height()\n",
        "    ax.annotate(percentage, (x, y),ha='right')\n",
        "plt.show()"
      ],
      "metadata": {
        "id": "hLxJZHXFbXg3"
      },
      "execution_count": null,
      "outputs": []
    },
    {
      "cell_type": "code",
      "source": [
        "# Checking for how long people stay in City hotels\n",
        "city_df['total_stay_nights'].value_counts()"
      ],
      "metadata": {
        "id": "4YW6poaubn6Q"
      },
      "execution_count": null,
      "outputs": []
    },
    {
      "cell_type": "code",
      "source": [
        "# Plotting graph to visualize and also show percentage distribution \n",
        "plt.figure(figsize=(24,5))\n",
        "total = float(len(city_df))\n",
        "ax = sns.countplot(x='total_stay_nights', data=city_df)\n",
        "plt.title('Distribution Of Stay Duration For City Hotels', fontsize=20)\n",
        "for p in ax.patches:\n",
        "    percentage = '{:.1f}%'.format(100 * p.get_height()/total)\n",
        "    x = p.get_x() + p.get_width()\n",
        "    y = p.get_height()\n",
        "    ax.annotate(percentage, (x, y),ha='right')\n",
        "plt.show()"
      ],
      "metadata": {
        "id": "3s5clPPgbqXZ"
      },
      "execution_count": null,
      "outputs": []
    },
    {
      "cell_type": "markdown",
      "source": [
        "##### 1. Why did you pick the specific chart?"
      ],
      "metadata": {
        "id": "bbFf2-_FphqN"
      }
    },
    {
      "cell_type": "markdown",
      "source": [
        "For this objective, Countplot has been used because as mentioned above it is best for visualizing the count of observations.We have plotted two graphs, one for Resort Hotels and the other for City Hotels."
      ],
      "metadata": {
        "id": "loh7H2nzphqN"
      }
    },
    {
      "cell_type": "markdown",
      "source": [
        "##### 2. What is/are the insight(s) found from the chart?"
      ],
      "metadata": {
        "id": "_ouA3fa0phqN"
      }
    },
    {
      "cell_type": "markdown",
      "source": [
        "From these we can conclude that in resort hotels most of the  people stayed for a duration of just 1 day. While in case of city hotels the most people stayed for 3 days followed by 2 day and then 1 day.\n",
        "Duration of stay  reduces drastically after week's stay for  City hotels and reduces drastically after fortnight for resort hotels."
      ],
      "metadata": {
        "id": "VECbqPI7phqN"
      }
    },
    {
      "cell_type": "markdown",
      "source": [
        "##### 3. Will the gained insights help creating a positive business impact? \n",
        "Are there any insights that lead to negative growth? Justify with specific reason."
      ],
      "metadata": {
        "id": "Seke61FWphqN"
      }
    },
    {
      "cell_type": "markdown",
      "source": [
        "it will definitely make an businees impact it will help then to know that how much time a gust wil stay is a city hotel or a resort hotel and what type of gust they are like they are staying in our hotel for any kind of work related or they are traveling"
      ],
      "metadata": {
        "id": "DW4_bGpfphqN"
      }
    },
    {
      "cell_type": "markdown",
      "source": [
        "#### Chart - 7"
      ],
      "metadata": {
        "id": "PIIx-8_IphqN"
      }
    },
    {
      "cell_type": "code",
      "source": [
        "# Checking value counts for different meal types\n",
        "ax=copy_df['meal'].value_counts()\n",
        "ax"
      ],
      "metadata": {
        "id": "lqAIGUfyphqO"
      },
      "execution_count": null,
      "outputs": []
    },
    {
      "cell_type": "code",
      "source": [
        "# Visualizing different meal types\n",
        "plt.figure(figsize=(10,5))\n",
        "plt.bar(ax.index, ax.values, color=(0.1, 0.1, 0.1, 0.1),  edgecolor='blue')\n",
        "plt.title(\"Meal Types and their count\")\n",
        "plt.xlabel('meal')\n",
        "plt.ylabel(\"count\")"
      ],
      "metadata": {
        "id": "Msw88bO-d6_A"
      },
      "execution_count": null,
      "outputs": []
    },
    {
      "cell_type": "code",
      "source": [
        "ax=copy_df[['meal','hotel']].value_counts().unstack()\n",
        "ax"
      ],
      "metadata": {
        "id": "OKDIOFSaeHWr"
      },
      "execution_count": null,
      "outputs": []
    },
    {
      "cell_type": "code",
      "source": [
        "# Comparing preferred meal types for both hotels\n",
        "plt.figure(figsize=(10,5))\n",
        "ax=sns.countplot (x= 'hotel', data= copy_df, hue= 'meal')\n",
        "plt.xticks(size=15)\n",
        "plt.xlabel('Hotel',size=15)\n",
        "plt.yticks(size=15)\n",
        "plt.ylabel('count',size=15)\n",
        "plt.title(\"Preferred Meal Types for both hotels\")"
      ],
      "metadata": {
        "id": "-K_okijIeKr-"
      },
      "execution_count": null,
      "outputs": []
    },
    {
      "cell_type": "markdown",
      "source": [
        "##### 1. Why did you pick the specific chart?"
      ],
      "metadata": {
        "id": "t27r6nlMphqO"
      }
    },
    {
      "cell_type": "markdown",
      "source": [
        "Here in the first graph, barplot has been used to show the relationship between a numeric and a categorical variable. And the second graph, Countplot has been used to show comparison among preferred meal types between both type of hotels."
      ],
      "metadata": {
        "id": "iv6ro40sphqO"
      }
    },
    {
      "cell_type": "markdown",
      "source": [
        "##### 2. What is/are the insight(s) found from the chart?"
      ],
      "metadata": {
        "id": "r2jJGEOYphqO"
      }
    },
    {
      "cell_type": "markdown",
      "source": [
        "\n",
        "It can be concluded that for BB is the most preferred meal type for both the hotels. Followed by HB for Resort Hotel and SC for City Hotel."
      ],
      "metadata": {
        "id": "Po6ZPi4hphqO"
      }
    },
    {
      "cell_type": "markdown",
      "source": [
        "##### 3. Will the gained insights help creating a positive business impact? \n",
        "Are there any insights that lead to negative growth? Justify with specific reason."
      ],
      "metadata": {
        "id": "b0JNsNcRphqO"
      }
    },
    {
      "cell_type": "markdown",
      "source": [
        "It will make the busness impact that the hotel manegars can make there food quality more batter so gust want to come again there and it will make ther profit high."
      ],
      "metadata": {
        "id": "xvSq8iUTphqO"
      }
    },
    {
      "cell_type": "markdown",
      "source": [
        "#### Chart - 8"
      ],
      "metadata": {
        "id": "BZR9WyysphqO"
      }
    },
    {
      "cell_type": "code",
      "source": [
        "# Most common Distribution channel for booking hotels\n",
        "group_by_dc = copy_df.groupby('distribution_channel')\n",
        "plt.figure(figsize=(8,4))\n",
        "d1 = pd.DataFrame(round((group_by_dc.size()/df.shape[0])*100,2)).reset_index().rename(columns = {0: 'Booking_%'})\n",
        "plt.figure(figsize = (8,8))\n",
        "data = d1['Booking_%']\n",
        "labels = d1['distribution_channel']\n",
        "plt.pie(x=data, autopct=\"%.2f%%\", explode=[0.05]*5, labels=labels, pctdistance=0.5)\n",
        "plt.title(\"Booking % by distribution channels\", fontsize=14);"
      ],
      "metadata": {
        "id": "TdPTWpAVphqO"
      },
      "execution_count": null,
      "outputs": []
    },
    {
      "cell_type": "markdown",
      "source": [
        "##### 1. Why did you pick the specific chart?"
      ],
      "metadata": {
        "id": "jj7wYXLtphqO"
      }
    },
    {
      "cell_type": "markdown",
      "source": [
        "Pie chart has been used here to visualize the objective. it will make the visealizeation easy. "
      ],
      "metadata": {
        "id": "Ob8u6rCTphqO"
      }
    },
    {
      "cell_type": "markdown",
      "source": [
        "##### 2. What is/are the insight(s) found from the chart?"
      ],
      "metadata": {
        "id": "eZrbJ2SmphqO"
      }
    },
    {
      "cell_type": "markdown",
      "source": [
        "So according to pie chart almost 80% of the bookings are done through Travel agents and Tour operators."
      ],
      "metadata": {
        "id": "mZtgC_hjphqO"
      }
    },
    {
      "cell_type": "markdown",
      "source": [
        "##### 3. Will the gained insights help creating a positive business impact? \n",
        "Are there any insights that lead to negative growth? Justify with specific reason."
      ],
      "metadata": {
        "id": "rFu4xreNphqO"
      }
    },
    {
      "cell_type": "markdown",
      "source": [
        "There is immense scope to increase the books through GDS(Global Distribution System ) as it is grossly underutilized with just 0.21% bookings."
      ],
      "metadata": {
        "id": "ey_0qi68phqO"
      }
    },
    {
      "cell_type": "markdown",
      "source": [
        "#### Chart - 9"
      ],
      "metadata": {
        "id": "YJ55k-q6phqO"
      }
    },
    {
      "cell_type": "code",
      "source": [
        "# Visualizing comparison in bookings done by different agent\n",
        "copy_df.loc[copy_df['agent']!=0,'agent'].value_counts().plot(kind='pie',title='Bookings done by agents comparison')\n",
        "plt.figure(figsize = (20,5))"
      ],
      "metadata": {
        "id": "B2aS4O1ophqO"
      },
      "execution_count": null,
      "outputs": []
    },
    {
      "cell_type": "markdown",
      "source": [
        "##### 1. Why did you pick the specific chart?"
      ],
      "metadata": {
        "id": "gCFgpxoyphqP"
      }
    },
    {
      "cell_type": "markdown",
      "source": [
        " Pie Chart has been used to visualize which agent covers how much proportion of bookings."
      ],
      "metadata": {
        "id": "TVxDimi2phqP"
      }
    },
    {
      "cell_type": "markdown",
      "source": [
        "##### 2. What is/are the insight(s) found from the chart?"
      ],
      "metadata": {
        "id": "OVtJsKN_phqQ"
      }
    },
    {
      "cell_type": "markdown",
      "source": [
        "It is observed that  agent 240 and 9 are the most valuable agents. Their total bookings combined account for more than 50% of total bookings done by agents"
      ],
      "metadata": {
        "id": "ngGi97qjphqQ"
      }
    },
    {
      "cell_type": "markdown",
      "source": [
        "##### 3. Will the gained insights help creating a positive business impact? \n",
        "Are there any insights that lead to negative growth? Justify with specific reason."
      ],
      "metadata": {
        "id": "lssrdh5qphqQ"
      }
    },
    {
      "cell_type": "markdown",
      "source": [
        "It will make a positive busniess impact "
      ],
      "metadata": {
        "id": "tBpY5ekJphqQ"
      }
    },
    {
      "cell_type": "markdown",
      "source": [
        "#### Chart - 10"
      ],
      "metadata": {
        "id": "U2RJ9gkRphqQ"
      }
    },
    {
      "cell_type": "code",
      "source": [
        "# Distribution of Market Segment based on Deposit Type\n",
        "plt.figure(figsize = (10,5))\n",
        "sns.set(style = \"whitegrid\")\n",
        "plt.title(\"Countplot Distribution of Market Segment by Deposit Type\", fontdict = {'fontsize':20})\n",
        "ax = sns.countplot(x = \"market_segment\", hue = 'deposit_type', data = copy_df)"
      ],
      "metadata": {
        "id": "GM7a4YP4phqQ"
      },
      "execution_count": null,
      "outputs": []
    },
    {
      "cell_type": "markdown",
      "source": [
        "##### 1. Why did you pick the specific chart?"
      ],
      "metadata": {
        "id": "1M8mcRywphqQ"
      }
    },
    {
      "cell_type": "markdown",
      "source": [
        "Here Countplot fron sns i.e seaborn library has been used to display the distribution of Market segment By Deposit Type.\n"
      ],
      "metadata": {
        "id": "8agQvks0phqQ"
      }
    },
    {
      "cell_type": "markdown",
      "source": [
        "##### 2. What is/are the insight(s) found from the chart?"
      ],
      "metadata": {
        "id": "tgIPom80phqQ"
      }
    },
    {
      "cell_type": "markdown",
      "source": [
        "\n",
        "Most of the bookings are done for \"No deposit\" by all market segments. Few group bookings and Offline TA/TO Bookings are done through Non refundable deposits too.Refundable deposits are very less."
      ],
      "metadata": {
        "id": "Qp13pnNzphqQ"
      }
    },
    {
      "cell_type": "markdown",
      "source": [
        "##### 3. Will the gained insights help creating a positive business impact? \n",
        "Are there any insights that lead to negative growth? Justify with specific reason."
      ],
      "metadata": {
        "id": "JMzcOPDDphqR"
      }
    },
    {
      "cell_type": "markdown",
      "source": [
        "It will make an positive business impact there is refundable deposits are verry less so if they incress the refundable money persentage increases."
      ],
      "metadata": {
        "id": "R4Ka1PC2phqR"
      }
    },
    {
      "cell_type": "markdown",
      "source": [
        "#### Chart - 11"
      ],
      "metadata": {
        "id": "x-EpHcCOp1ci"
      }
    },
    {
      "cell_type": "code",
      "source": [
        "# calculating average adr\n",
        "grouped_by_hotel = copy_df.groupby('hotel')\n",
        "d3 = grouped_by_hotel['adr'].agg(np.mean).reset_index().rename(columns = {'adr':'avg_adr'})   # calculating average adr\n",
        "plt.figure(figsize = (8,5))\n",
        "sns.barplot(x = d3['hotel'], y = d3['avg_adr'] )\n",
        "plt.title(\" calculating average adr\")\n",
        "plt.show()"
      ],
      "metadata": {
        "id": "mAQTIvtqp1cj"
      },
      "execution_count": null,
      "outputs": []
    },
    {
      "cell_type": "markdown",
      "source": [
        "##### 1. Why did you pick the specific chart?"
      ],
      "metadata": {
        "id": "X_VqEhTip1ck"
      }
    },
    {
      "cell_type": "markdown",
      "source": [
        "I picked Bar graph its ease to use and visualiaze "
      ],
      "metadata": {
        "id": "-vsMzt_np1ck"
      }
    },
    {
      "cell_type": "markdown",
      "source": [
        "##### 2. What is/are the insight(s) found from the chart?"
      ],
      "metadata": {
        "id": "8zGJKyg5p1ck"
      }
    },
    {
      "cell_type": "markdown",
      "source": [
        "comparison of both hotels with respect to adr i.e. average daily rate. And from the graph we can conclude that adr is greater in case of City Hotels as compared to Resort Hotels"
      ],
      "metadata": {
        "id": "ZYdMsrqVp1ck"
      }
    },
    {
      "cell_type": "markdown",
      "source": [
        "##### 3. Will the gained insights help creating a positive business impact? \n",
        "Are there any insights that lead to negative growth? Justify with specific reason."
      ],
      "metadata": {
        "id": "PVzmfK_Ep1ck"
      }
    },
    {
      "cell_type": "markdown",
      "source": [
        "it will create a positive business impact through you can check for the reason why city hotels have more adr. "
      ],
      "metadata": {
        "id": "druuKYZpp1ck"
      }
    },
    {
      "cell_type": "markdown",
      "source": [
        "#### Chart - 12"
      ],
      "metadata": {
        "id": "n3dbpmDWp1ck"
      }
    },
    {
      "cell_type": "code",
      "source": [
        "# Checking How does the price per night vary over the year \n",
        "sns.lineplot(x = \"arrival_date_month\", y=\"adr\", hue=\"hotel\", data=copy_df, hue_order = [\"City Hotel\", \"Resort Hotel\"],palette= 'Set1')\n",
        "plt.title(\"Room price per night  over the year\", weight = 'bold')\n",
        "plt.xlabel(\"Arrival Month\")\n",
        "plt.xticks(rotation=45)\n",
        "plt.ylabel(\"ADR [EUR]\")\n",
        "plt.show()"
      ],
      "metadata": {
        "id": "bwevp1tKp1ck"
      },
      "execution_count": null,
      "outputs": []
    },
    {
      "cell_type": "markdown",
      "source": [
        "##### 1. Why did you pick the specific chart?"
      ],
      "metadata": {
        "id": "ylSl6qgtp1ck"
      }
    },
    {
      "cell_type": "markdown",
      "source": [
        "The graph here is Line plot of seaborn library which is used to show how the prices per night vary for both hotel types. \n"
      ],
      "metadata": {
        "id": "m2xqNkiQp1ck"
      }
    },
    {
      "cell_type": "markdown",
      "source": [
        "##### 2. What is/are the insight(s) found from the chart?"
      ],
      "metadata": {
        "id": "ZWILFDl5p1ck"
      }
    },
    {
      "cell_type": "markdown",
      "source": [
        "From visualization we can observe that there is less variation in prices for city Hotels as compared to Resort Hotels. Prices for Resort Hotel are highest in August and least in November and January. For City hotel, prices are highest in May and least in January.\n"
      ],
      "metadata": {
        "id": "x-lUsV2mp1ck"
      }
    },
    {
      "cell_type": "markdown",
      "source": [
        "##### 3. Will the gained insights help creating a positive business impact? \n",
        "Are there any insights that lead to negative growth? Justify with specific reason."
      ],
      "metadata": {
        "id": "M7G43BXep1ck"
      }
    },
    {
      "cell_type": "markdown",
      "source": [
        "It will create a positive busniees impact which month most of the hotels decrise there prices."
      ],
      "metadata": {
        "id": "5wwDJXsLp1cl"
      }
    },
    {
      "cell_type": "markdown",
      "source": [
        "#### Chart - 13"
      ],
      "metadata": {
        "id": "Ag9LCva-p1cl"
      }
    },
    {
      "cell_type": "code",
      "source": [
        "# Cheacking Effect of non allotment of demanded room on adr\n",
        "def check_room_allot(x):\n",
        "  if x['reserved_room_type'] != x['assigned_room_type']:\n",
        "    return 1\n",
        "  else:\n",
        "    return 0\n",
        "copy_df['same_room_not_alloted'] = copy_df.apply(lambda x : check_room_allot(x), axis = 1)"
      ],
      "metadata": {
        "id": "EUfxeq9-p1cl"
      },
      "execution_count": null,
      "outputs": []
    },
    {
      "cell_type": "code",
      "source": [
        "plt.figure(figsize = (12,6))\n",
        "sns.boxplot(x = 'same_room_not_alloted', y = copy_df['adr'][:5000], data = copy_df)\n",
        "plt.title(\"Effect of not allotment of demanded room on adr\")\n",
        "plt.show()"
      ],
      "metadata": {
        "id": "fRTqiFBBmaGX"
      },
      "execution_count": null,
      "outputs": []
    },
    {
      "cell_type": "markdown",
      "source": [
        "##### 1. Why did you pick the specific chart?"
      ],
      "metadata": {
        "id": "E6MkPsBcp1cl"
      }
    },
    {
      "cell_type": "markdown",
      "source": [
        "BoxPlot is used as it is best Graph to display the  Mean value on graph and the changes in the Averages."
      ],
      "metadata": {
        "id": "V22bRsFWp1cl"
      }
    },
    {
      "cell_type": "markdown",
      "source": [
        "##### 2. What is/are the insight(s) found from the chart?"
      ],
      "metadata": {
        "id": "2cELzS2fp1cl"
      }
    },
    {
      "cell_type": "markdown",
      "source": [
        "It is seen that effect of not allocating the same room reduces the adr."
      ],
      "metadata": {
        "id": "ozQPc2_Ip1cl"
      }
    },
    {
      "cell_type": "markdown",
      "source": [
        "##### 3. Will the gained insights help creating a positive business impact? \n",
        "Are there any insights that lead to negative growth? Justify with specific reason."
      ],
      "metadata": {
        "id": "3MPXvC8up1cl"
      }
    },
    {
      "cell_type": "markdown",
      "source": [
        "It will did not make any positive business impact. "
      ],
      "metadata": {
        "id": "GL8l1tdLp1cl"
      }
    },
    {
      "cell_type": "markdown",
      "source": [
        "#### Chart - 14 - Correlation Heatmap"
      ],
      "metadata": {
        "id": "NC_X3p0fY2L0"
      }
    },
    {
      "cell_type": "code",
      "source": [
        "# Correlation Heatmap visualization code\n",
        "corr_df_data = copy_df[['lead_time', 'previous_cancellations', 'previous_bookings_not_canceled', 'booking_changes', 'days_in_waiting_list','adr',\n",
        "          'required_car_parking_spaces','total_of_special_requests','total_stay_nights']]\n",
        "corr_df=corr_df_data.corr()\n",
        "plt.figure(figsize=(10,5))\n",
        "sns.heatmap(corr_df, vmin=-1,annot=True,cmap='coolwarm')"
      ],
      "metadata": {
        "id": "xyC9zolEZNRQ"
      },
      "execution_count": null,
      "outputs": []
    },
    {
      "cell_type": "markdown",
      "source": [
        "##### 1. Why did you pick the specific chart?"
      ],
      "metadata": {
        "id": "UV0SzAkaZNRQ"
      }
    },
    {
      "cell_type": "markdown",
      "source": [
        "I have used heatmap here, because it is considered one of the best chart to visualize correlation between different variables in a dataframe."
      ],
      "metadata": {
        "id": "DVPuT8LYZNRQ"
      }
    },
    {
      "cell_type": "markdown",
      "source": [
        "##### 2. What is/are the insight(s) found from the chart?"
      ],
      "metadata": {
        "id": "YPEH6qLeZNRQ"
      }
    },
    {
      "cell_type": "markdown",
      "source": [
        "From this heatmap we can clearly see that the highest correlation value is 0.39."
      ],
      "metadata": {
        "id": "bfSqtnDqZNRR"
      }
    },
    {
      "cell_type": "markdown",
      "source": [
        "#### Chart - 15 - Pair Plot "
      ],
      "metadata": {
        "id": "q29F0dvdveiT"
      }
    },
    {
      "cell_type": "code",
      "source": [
        "# Pair Plot visualization code\n",
        "cols = ['hotel', 'is_canceled', 'lead_time', 'adults', 'children', 'babies']\n",
        "sns.pairplot(copy_df[cols], hue='hotel')\n",
        "plt.show()"
      ],
      "metadata": {
        "id": "UZJSaHMzF3RF"
      },
      "execution_count": null,
      "outputs": []
    },
    {
      "cell_type": "markdown",
      "source": [
        "##### 1. Why did you pick the specific chart?"
      ],
      "metadata": {
        "id": "EXh0U9oCveiU"
      }
    },
    {
      "cell_type": "markdown",
      "source": [
        "I have used Pair plot here, because it is also considered one of the best chart to visualize the tings."
      ],
      "metadata": {
        "id": "eMmPjTByveiU"
      }
    },
    {
      "cell_type": "markdown",
      "source": [
        "##### 2. What is/are the insight(s) found from the chart?"
      ],
      "metadata": {
        "id": "22aHeOlLveiV"
      }
    },
    {
      "cell_type": "markdown",
      "source": [
        "As per the chart the canceled persentage is high for city hotels as compair to resort hotels and most of the adults prefered city hotels."
      ],
      "metadata": {
        "id": "uPQ8RGwHveiV"
      }
    },
    {
      "cell_type": "markdown",
      "source": [
        "## **5. Solution to Business Objective**"
      ],
      "metadata": {
        "id": "JcMwzZxoAimU"
      }
    },
    {
      "cell_type": "markdown",
      "source": [
        "#### What do you suggest the client to achieve Business Objective ? \n",
        "Explain Briefly."
      ],
      "metadata": {
        "id": "8G2x9gOozGDZ"
      }
    },
    {
      "cell_type": "markdown",
      "source": [
        "My business objective was to increase bookings, decrease cancellations, and increase customer retention while also extending stays. Based on My investigation, some recommendations we came up with are as follows:\n",
        "\n",
        "*   Additional public marketing can help raise the number of visitors from * certain nations. Even after they depart, more effort can be taken to keep them by keeping in touch with them by personalised emails, phone calls, etc.\n",
        "\n",
        "*   Agents and market sectors that bring in more clients should also be recognised with awards and incentives.\n",
        "\n",
        "*   Cancellations had a strong connection with new clients. If new clients are prone to cancel, further efforts should be taken to retain them by providing discounts and offers. Additionally, greater efforts should be made to retain clients as Repeated clients generally cancel less bookings. \n",
        "\n",
        "*   Data from each visitor's stay can be used to send them personalized offers to maximize their chances of booking again.\n",
        "\n",
        "*   Launching customer loyalty programmes to reward loyal customers.\n",
        "\n",
        "*   The period of each visitor's stay can be utilized to create a clever pricing model that should prolong one‘s stay.\n",
        "\n",
        "*   Extra efforts should be made to foster positive relationships with clients which can be done by sending them engaging emails, such as \"Thank you\" and \"Happy Holidays\",etc.\n",
        "\n",
        "*   Good customer evaluations can have a significant impact on a hotel's brand value, and it is important to consider customer feedback and reviews in order to improve hotel amenities and the guest experience."
      ],
      "metadata": {
        "id": "pASKb0qOza21"
      }
    },
    {
      "cell_type": "markdown",
      "source": [
        "# **Conclusion**"
      ],
      "metadata": {
        "id": "gCX9965dhzqZ"
      }
    },
    {
      "cell_type": "markdown",
      "source": [
        "1) Most of the guests are local i.e. from Portugal. Among overseas visitors, European neighbours like United Kingdom, France, Spain, Germany, Italy had maximum footfall. Least number of visitors came from Countries like Zambia, Madagascar, Seychelles, Faroe Islands etc. Hence there is scope to increase footfall from these countries from where number of customers were less.\n",
        "\n",
        "2) Barring 2015, almost 2/3rd of the bookings were for City Hotels for each year. This may be due to frequent business travellers as well as easy accessibility.\n",
        "\n",
        "3) Monthly visit pattern shows a \"wave like\" pattern where months of July & August were heavily visited and November, December, January were least visited. Other months were moderately visited.\n",
        "\n",
        "4) For all the months, at least 21% of bookings were cancelled. Percentage of cancellation was least in least visited months of Nov , December, January and was most in heavily visited months. Hence there is scope of overbooking for all Heavily visited as well as moderately visited months.\n",
        "\n",
        "5) Duration of stay reduces drastically after week's stay for City hotels and reduces drastically after fortnight for resort hotels.Resort hotels seem to be visited for stays either on weekend or weekly or fortnightly basis. People use city hotels mostly for short stays(1-4 days). Special customised Packages can be suggested to increase the stay duration.\n",
        "\n",
        "6) Breakfast is most preferred meal type followed by Breakfast+Dinner and Self catering. Therefore customer experience has to be taken special care during timings of these meals as well as availability of utensils, gas in kitchen or kitchenette where guests can prepare their own food.\n",
        "\n",
        "7) Almost 80% of the bookings are done through Travel agents and Tour operators.There is immense scope to increase the books through GDS(Global Distribution System ) as it is grossly underutilized with just 0.21% bookings.\n",
        " \n",
        "8) Lion's share of agent bookings is done by 2 agents (Agent 9 & 240 ). Also, 75% of the bookings are done by just 8 agents. Therefore there is immense scope to increase bookings by other agents. Also special care needs to be taken to provide best services to these two agents providing most business.\n",
        "\n",
        "9) Most of the bookings are done without deposit by all market segments. However some group bookings and Offline TA/TO Bookings are done through Non refundable deposits too. Refundable deposits are miniscule and hence can be ignored.\n",
        "\n",
        "10) City hotels have higher adr and hence make more revenue per room w.r.t Resort hotels.\n",
        "\n",
        "11) Price per night is dependent on season.Heavily booked months have highest adr.\n",
        "\n",
        "12) Not allotment of demanded room lowers the adr i.e. price for room for customers except for few customers who have paid more adr even when they were not allotted the same room. These customers do not seem to cancel their visit plans in spite of different room allotment.\n",
        "\n",
        "13) Cancellation rate of City hotel is around 30%. Cancellation rate of Resort Hotels is around 20% lesser than that of city hotels.\n",
        "\n",
        "14) Cancellation shows similar pattern w.r.t. waiting list period as well as lead time. Most of the bookings which were cancelled as well as those not cancelled show similar waiting time as well as lead time values.\n",
        "\n",
        "15) Cancellations are more for higher average lead times (80 days). For lower average lead times (70 or less) there are no cancellations as people seem to have firm visit plans.\n",
        "\n",
        "16) Repeated guest tend to cancel less as compared to those visiting for first time. This might be true because of their prior satisfactory experience with the hotel. Effort should be made to retain customers to reduce chance of cancellations too.\n",
        "\n",
        "17) Most cancellations are done by Online TA followed by Offline TA/TO, Direct groups and corporate. Complementary segment has no cancellations.\n",
        "\n",
        "18) Guests who did not pay any deposit cancelled most of the bookings. An incentive of reduced adr can be given to customers who give deposit and furthermore reduced adr to those who give non refundable deposits.\n",
        "\n",
        "19) Resort hotels have slightly more repeat customers as compared to City hotels. Therefore there is ample scope for city hotels to improve their services to increase repeated footfall.\n",
        "\n",
        "20) Early bookings are done mostly by TA/TO followed by Direct, GDS and corporate. This might be because of visits by corporate at relatively shorter notice.\n",
        "\n",
        "21) Among distribution channels, average waiting time for TA/TO is highest followed by Direct and corporate. Waiting time for GDS is negligible. This might be because of no. of bookings itself for GDS are very less, hence waiting time is less too.\n",
        "\n",
        "22) Adr for city hotels have been increasing every year. For resort hotel price dipped in 2016 but bounced back and increased appreciably in the succeeding year.\n",
        "\n",
        "23) City hotel has higher cancellation rate as itineraries of the customers visiting seem to change frequently leading to more cancellations.\n"
      ],
      "metadata": {
        "id": "Fjb1IsQkh3yE"
      }
    },
    {
      "cell_type": "markdown",
      "source": [
        "### ***Hurrah! You have successfully completed your EDA Capstone Project !!!***"
      ],
      "metadata": {
        "id": "gIfDvo9L0UH2"
      }
    }
  ]
}